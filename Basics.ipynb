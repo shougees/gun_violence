{
 "cells": [
  {
   "cell_type": "code",
   "execution_count": 1,
   "metadata": {
    "collapsed": false
   },
   "outputs": [
    {
     "name": "stdout",
     "output_type": "stream",
     "text": [
      "[['', 'year', 'month', 'intent', 'police', 'sex', 'age', 'race', 'hispanic', 'place', 'education'], ['1', '2012', '01', 'Suicide', '0', 'M', '34', 'Asian/Pacific Islander', '100', 'Home', '4'], ['2', '2012', '01', 'Suicide', '0', 'F', '21', 'White', '100', 'Street', '3'], ['3', '2012', '01', 'Suicide', '0', 'M', '60', 'White', '100', 'Other specified', '4'], ['4', '2012', '02', 'Suicide', '0', 'M', '64', 'White', '100', 'Home', '4']]\n"
     ]
    }
   ],
   "source": [
    "import csv\n",
    "f = open(\"guns.csv\", \"r\")\n",
    "csvreader = csv.reader(f)\n",
    "data = list(csvreader)\n",
    "\n",
    "print(data[:5])"
   ]
  },
  {
   "cell_type": "code",
   "execution_count": 2,
   "metadata": {
    "collapsed": false
   },
   "outputs": [
    {
     "name": "stdout",
     "output_type": "stream",
     "text": [
      "['', 'year', 'month', 'intent', 'police', 'sex', 'age', 'race', 'hispanic', 'place', 'education']\n",
      "[['1', '2012', '01', 'Suicide', '0', 'M', '34', 'Asian/Pacific Islander', '100', 'Home', '4'], ['2', '2012', '01', 'Suicide', '0', 'F', '21', 'White', '100', 'Street', '3'], ['3', '2012', '01', 'Suicide', '0', 'M', '60', 'White', '100', 'Other specified', '4'], ['4', '2012', '02', 'Suicide', '0', 'M', '64', 'White', '100', 'Home', '4'], ['5', '2012', '02', 'Suicide', '0', 'M', '31', 'White', '100', 'Other specified', '2']]\n"
     ]
    }
   ],
   "source": [
    "headers = data[0]\n",
    "data = data[1:]\n",
    "print(headers)\n",
    "print(data[:5])"
   ]
  },
  {
   "cell_type": "code",
   "execution_count": 3,
   "metadata": {
    "collapsed": false
   },
   "outputs": [
    {
     "name": "stdout",
     "output_type": "stream",
     "text": [
      "{'2013': 33636, '2014': 33599, '2012': 33563}\n"
     ]
    }
   ],
   "source": [
    "years = []\n",
    "for row in data:\n",
    "    years.append(row[1])\n",
    "\n",
    "year_counts = {}\n",
    "for y in years:\n",
    "    if y not in year_counts:\n",
    "        year_counts[y] = 1\n",
    "    else:\n",
    "        year_counts[y] += 1\n",
    "\n",
    "print(year_counts)\n",
    "    \n"
   ]
  },
  {
   "cell_type": "code",
   "execution_count": 10,
   "metadata": {
    "collapsed": false
   },
   "outputs": [
    {
     "name": "stdout",
     "output_type": "stream",
     "text": [
      "[datetime.datetime(2012, 1, 1, 0, 0), datetime.datetime(2012, 1, 1, 0, 0), datetime.datetime(2012, 1, 1, 0, 0), datetime.datetime(2012, 2, 1, 0, 0), datetime.datetime(2012, 2, 1, 0, 0)]\n",
      "{datetime.datetime(2014, 1, 1, 0, 0): 2651, datetime.datetime(2014, 6, 1, 0, 0): 2931, datetime.datetime(2014, 10, 1, 0, 0): 2865, datetime.datetime(2012, 3, 1, 0, 0): 2743, datetime.datetime(2014, 4, 1, 0, 0): 2862, datetime.datetime(2013, 1, 1, 0, 0): 2864, datetime.datetime(2012, 4, 1, 0, 0): 2795, datetime.datetime(2013, 6, 1, 0, 0): 2920, datetime.datetime(2012, 7, 1, 0, 0): 3026, datetime.datetime(2014, 12, 1, 0, 0): 2857, datetime.datetime(2012, 6, 1, 0, 0): 2826, datetime.datetime(2013, 3, 1, 0, 0): 2862, datetime.datetime(2013, 9, 1, 0, 0): 2742, datetime.datetime(2013, 11, 1, 0, 0): 2758, datetime.datetime(2013, 12, 1, 0, 0): 2765, datetime.datetime(2014, 3, 1, 0, 0): 2684, datetime.datetime(2013, 2, 1, 0, 0): 2375, datetime.datetime(2014, 9, 1, 0, 0): 2914, datetime.datetime(2012, 1, 1, 0, 0): 2758, datetime.datetime(2012, 10, 1, 0, 0): 2733, datetime.datetime(2012, 8, 1, 0, 0): 2954, datetime.datetime(2014, 11, 1, 0, 0): 2756, datetime.datetime(2013, 5, 1, 0, 0): 2806, datetime.datetime(2013, 10, 1, 0, 0): 2808, datetime.datetime(2012, 2, 1, 0, 0): 2357, datetime.datetime(2013, 8, 1, 0, 0): 2859, datetime.datetime(2013, 4, 1, 0, 0): 2798, datetime.datetime(2012, 9, 1, 0, 0): 2852, datetime.datetime(2012, 5, 1, 0, 0): 2999, datetime.datetime(2014, 2, 1, 0, 0): 2361, datetime.datetime(2014, 7, 1, 0, 0): 2884, datetime.datetime(2014, 8, 1, 0, 0): 2970, datetime.datetime(2012, 12, 1, 0, 0): 2791, datetime.datetime(2012, 11, 1, 0, 0): 2729, datetime.datetime(2014, 5, 1, 0, 0): 2864, datetime.datetime(2013, 7, 1, 0, 0): 3079}\n"
     ]
    }
   ],
   "source": [
    "import datetime\n",
    "\n",
    "dates = []\n",
    "for row in data:\n",
    "    date = datetime.datetime(year=int(row[1]), month=int(row[2]), day=1)\n",
    "    dates.append(date)\n",
    "print(dates[:5])\n",
    "\n",
    "date_counts = {}\n",
    "for d in dates:\n",
    "    if d not in date_counts:\n",
    "        date_counts[d] = 1\n",
    "    else:\n",
    "        date_counts[d] += 1\n",
    "\n",
    "print(date_counts)"
   ]
  },
  {
   "cell_type": "code",
   "execution_count": 11,
   "metadata": {
    "collapsed": false
   },
   "outputs": [
    {
     "name": "stdout",
     "output_type": "stream",
     "text": [
      "{'M': 86349, 'F': 14449}\n",
      "{'Native American/Native Alaskan': 917, 'Hispanic': 9022, 'White': 66237, 'Asian/Pacific Islander': 1326, 'Black': 23296}\n"
     ]
    }
   ],
   "source": [
    "sex = []\n",
    "race = []\n",
    "for row in data:\n",
    "    sex.append(row[5])\n",
    "    race.append(row[7])\n",
    "\n",
    "sex_counts = {}\n",
    "for s in sex:\n",
    "    if s not in sex_counts:\n",
    "        sex_counts[s] = 1\n",
    "    else:\n",
    "        sex_counts[s] += 1\n",
    "\n",
    "race_counts = {}\n",
    "for r in race:\n",
    "    if r not in race_counts:\n",
    "        race_counts[r] = 1\n",
    "    else:\n",
    "        race_counts[r] += 1\n",
    "\n",
    "print(sex_counts)\n",
    "print(race_counts)"
   ]
  },
  {
   "cell_type": "code",
   "execution_count": 14,
   "metadata": {
    "collapsed": false
   },
   "outputs": [
    {
     "name": "stdout",
     "output_type": "stream",
     "text": [
      "[['Id', 'Year', 'Id', 'Sex', 'Id', 'Hispanic Origin', 'Id', 'Id2', 'Geography', 'Total', 'Race Alone - White', 'Race Alone - Hispanic', 'Race Alone - Black or African American', 'Race Alone - American Indian and Alaska Native', 'Race Alone - Asian', 'Race Alone - Native Hawaiian and Other Pacific Islander', 'Two or More Races'], ['cen42010', 'April 1, 2010 Census', 'totsex', 'Both Sexes', 'tothisp', 'Total', '0100000US', '', 'United States', '308745538', '197318956', '44618105', '40250635', '3739506', '15159516', '674625', '6984195']]\n"
     ]
    }
   ],
   "source": [
    "census_file = open(\"census.csv\", \"r\")\n",
    "csvreader_census = csv.reader(census_file)\n",
    "census = list(csvreader_census)\n",
    "print(census)"
   ]
  },
  {
   "cell_type": "code",
   "execution_count": 21,
   "metadata": {
    "collapsed": false
   },
   "outputs": [
    {
     "name": "stdout",
     "output_type": "stream",
     "text": [
      "{'White': 33.56849303419181, 'Native American/Native Alaskan': 24.521955573811088, 'Asian/Pacific Islander': 8.374309664161762, 'Black': 57.8773477735196, 'Hispanic': 20.220491210910907}\n"
     ]
    }
   ],
   "source": [
    "mapping = {\n",
    "    \"Asian/Pacific Islander\": 15159516 + 674625, \n",
    "    \"Black\": 40250635, \n",
    "    \"Native American/Native Alaskan\": 3739506, \n",
    "    \"Hispanic\": 44618105, \n",
    "    \"White\": 197318956}\n",
    "\n",
    "race_per_hundredk = {}\n",
    "for r, k in race_counts.items():\n",
    "    race_per_hundredk[r] = k / mapping[r] * 100000\n",
    "\n",
    "print(race_per_hundredk)"
   ]
  },
  {
   "cell_type": "code",
   "execution_count": 24,
   "metadata": {
    "collapsed": false
   },
   "outputs": [
    {
     "name": "stdout",
     "output_type": "stream",
     "text": [
      "{'Native American/Native Alaskan': 326, 'Hispanic': 5634, 'White': 9147, 'Asian/Pacific Islander': 559, 'Black': 19510}\n"
     ]
    }
   ],
   "source": [
    "intents = []\n",
    "races = []\n",
    "for row in data:\n",
    "    intents.append(row[3])\n",
    "    races.append(row[7])\n",
    "    \n",
    "homicide_race_per_hundredk = {}\n",
    "for i, x in enumerate(races):\n",
    "    if intents[i] == \"Homicide\":\n",
    "        if x not in homicide_race_per_hundredk:\n",
    "            homicide_race_per_hundredk[x] = 1\n",
    "        else:\n",
    "            homicide_race_per_hundredk[x] += 1\n",
    "\n",
    "for r, k in homicide_race_per_hundredk.items():\n",
    "    homicide_race_per_hundredk[r] = k / mapping[r] * 100000"
   ]
  },
  {
   "cell_type": "code",
   "execution_count": null,
   "metadata": {
    "collapsed": true
   },
   "outputs": [],
   "source": []
  }
 ],
 "metadata": {
  "kernelspec": {
   "display_name": "Python 3",
   "language": "python",
   "name": "python3"
  },
  "language_info": {
   "codemirror_mode": {
    "name": "ipython",
    "version": 3
   },
   "file_extension": ".py",
   "mimetype": "text/x-python",
   "name": "python",
   "nbconvert_exporter": "python",
   "pygments_lexer": "ipython3",
   "version": "3.4.3"
  }
 },
 "nbformat": 4,
 "nbformat_minor": 0
}
